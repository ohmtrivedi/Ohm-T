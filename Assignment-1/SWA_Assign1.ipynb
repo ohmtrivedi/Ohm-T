{
 "cells": [
  {
   "cell_type": "markdown",
   "metadata": {},
   "source": [
    "# Importing necessary libraries"
   ]
  },
  {
   "cell_type": "code",
   "execution_count": 1,
   "metadata": {
    "collapsed": false
   },
   "outputs": [
    {
     "name": "stdout",
     "output_type": "stream",
     "text": [
      "Using matplotlib backend: Qt4Agg\n"
     ]
    }
   ],
   "source": [
    "%matplotlib\n",
    "%matplotlib inline\n",
    "import pandas as pd\n",
    "from pandas import Series, DataFrame\n",
    "from tabulate import tabulate"
   ]
  },
  {
   "cell_type": "markdown",
   "metadata": {},
   "source": [
    "# Reading File and Taking Input from user for the desired period"
   ]
  },
  {
   "cell_type": "code",
   "execution_count": 2,
   "metadata": {
    "collapsed": false
   },
   "outputs": [
    {
     "name": "stdout",
     "output_type": "stream",
     "text": [
      "Enter your desired Month in format dd/yyyy: 03/2015\n"
     ]
    }
   ],
   "source": [
    "filename = 'datagovdatasetsviewmetrics.csv'\n",
    "df = pd.read_csv(filename)\n",
    "period = raw_input('Enter your desired Month in format dd/yyyy: ')\n",
    "queried_df = df.loc[df['Date'] == period]"
   ]
  },
  {
   "cell_type": "markdown",
   "metadata": {},
   "source": [
    "# Grouping data by Organization Name"
   ]
  },
  {
   "cell_type": "code",
   "execution_count": 3,
   "metadata": {
    "collapsed": false
   },
   "outputs": [
    {
     "data": {
      "text/plain": [
       "<pandas.core.groupby.DataFrameGroupBy object at 0x000000000B427DD8>"
      ]
     },
     "execution_count": 3,
     "metadata": {},
     "output_type": "execute_result"
    }
   ],
   "source": [
    "queried_df.groupby(['Organization Name'])"
   ]
  },
  {
   "cell_type": "markdown",
   "metadata": {},
   "source": [
    "# Calculating Total Views per month for each Organization"
   ]
  },
  {
   "cell_type": "code",
   "execution_count": 4,
   "metadata": {
    "collapsed": false
   },
   "outputs": [
    {
     "data": {
      "text/html": [
       "<div style=\"max-height:1000px;max-width:1500px;overflow:auto;\">\n",
       "<table border=\"1\" class=\"dataframe\">\n",
       "  <thead>\n",
       "    <tr style=\"text-align: right;\">\n",
       "      <th></th>\n",
       "      <th>Views per Month</th>\n",
       "    </tr>\n",
       "    <tr>\n",
       "      <th>Organization Name</th>\n",
       "      <th></th>\n",
       "    </tr>\n",
       "  </thead>\n",
       "  <tbody>\n",
       "    <tr>\n",
       "      <th>Arctic Landscape Conservation Cooperative</th>\n",
       "      <td>    94</td>\n",
       "    </tr>\n",
       "    <tr>\n",
       "      <th>Arizona Geological Survey</th>\n",
       "      <td>  1643</td>\n",
       "    </tr>\n",
       "    <tr>\n",
       "      <th>Army Corps of Engineers, Department of the Army, Department of Defense</th>\n",
       "      <td>   324</td>\n",
       "    </tr>\n",
       "    <tr>\n",
       "      <th>Baruch Institute for Marine and Coastal Sciences, Univ of South Carolina</th>\n",
       "      <td>    54</td>\n",
       "    </tr>\n",
       "    <tr>\n",
       "      <th>Broadcasting Board of Governors</th>\n",
       "      <td>    12</td>\n",
       "    </tr>\n",
       "    <tr>\n",
       "      <th>Bureau of Economic Analysis, Department of Commerce</th>\n",
       "      <td>    46</td>\n",
       "    </tr>\n",
       "    <tr>\n",
       "      <th>Bureau of Indian Education, Department of the Interior</th>\n",
       "      <td>    25</td>\n",
       "    </tr>\n",
       "    <tr>\n",
       "      <th>Bureau of Industry and Security, Department of Commerce</th>\n",
       "      <td>    74</td>\n",
       "    </tr>\n",
       "    <tr>\n",
       "      <th>Bureau of Land Management, Department of the Interior</th>\n",
       "      <td>   215</td>\n",
       "    </tr>\n",
       "    <tr>\n",
       "      <th>Bureau of Ocean Energy Management, Department of the Interior</th>\n",
       "      <td>   313</td>\n",
       "    </tr>\n",
       "    <tr>\n",
       "      <th>CCAPS Program, Robert Strauss Center, University of Texas at Austin</th>\n",
       "      <td>    54</td>\n",
       "    </tr>\n",
       "    <tr>\n",
       "      <th>California Department of Resources</th>\n",
       "      <td>  1247</td>\n",
       "    </tr>\n",
       "    <tr>\n",
       "      <th>California Environmental Health Tracking Program</th>\n",
       "      <td>    74</td>\n",
       "    </tr>\n",
       "    <tr>\n",
       "      <th>California Institute of Technology, Jet Propulsion Laboratory</th>\n",
       "      <td>    15</td>\n",
       "    </tr>\n",
       "    <tr>\n",
       "      <th>Center for International Earth Science Information Network, Columbia University</th>\n",
       "      <td>     5</td>\n",
       "    </tr>\n",
       "    <tr>\n",
       "      <th>Centers for Medicare and Medicaid Services, Department of Health and Human Services</th>\n",
       "      <td>    44</td>\n",
       "    </tr>\n",
       "    <tr>\n",
       "      <th>City of Baltimore</th>\n",
       "      <td>   389</td>\n",
       "    </tr>\n",
       "    <tr>\n",
       "      <th>City of Baton Rouge</th>\n",
       "      <td>    51</td>\n",
       "    </tr>\n",
       "    <tr>\n",
       "      <th>City of Chicago</th>\n",
       "      <td>  1192</td>\n",
       "    </tr>\n",
       "    <tr>\n",
       "      <th>City of Hartford</th>\n",
       "      <td>    53</td>\n",
       "    </tr>\n",
       "    <tr>\n",
       "      <th>City of Honolulu</th>\n",
       "      <td>    52</td>\n",
       "    </tr>\n",
       "    <tr>\n",
       "      <th>City of Los Angeles</th>\n",
       "      <td>   405</td>\n",
       "    </tr>\n",
       "    <tr>\n",
       "      <th>City of New York</th>\n",
       "      <td>  2564</td>\n",
       "    </tr>\n",
       "    <tr>\n",
       "      <th>City of Philadelphia</th>\n",
       "      <td>   129</td>\n",
       "    </tr>\n",
       "    <tr>\n",
       "      <th>City of San Francisco</th>\n",
       "      <td>   691</td>\n",
       "    </tr>\n",
       "    <tr>\n",
       "      <th>City of Seattle</th>\n",
       "      <td>   295</td>\n",
       "    </tr>\n",
       "    <tr>\n",
       "      <th>City of Somerville</th>\n",
       "      <td>    11</td>\n",
       "    </tr>\n",
       "    <tr>\n",
       "      <th>Commodity Futures Trading Commission</th>\n",
       "      <td>    60</td>\n",
       "    </tr>\n",
       "    <tr>\n",
       "      <th>Consumer Financial Protection Bureau</th>\n",
       "      <td>  3530</td>\n",
       "    </tr>\n",
       "    <tr>\n",
       "      <th>Cook County of Illinois</th>\n",
       "      <td>   114</td>\n",
       "    </tr>\n",
       "    <tr>\n",
       "      <th>...</th>\n",
       "      <td>...</td>\n",
       "    </tr>\n",
       "    <tr>\n",
       "      <th>U.S. Department of Health &amp; Human Services</th>\n",
       "      <td>     4</td>\n",
       "    </tr>\n",
       "    <tr>\n",
       "      <th>U.S. Environmental Protection Agency</th>\n",
       "      <td>   196</td>\n",
       "    </tr>\n",
       "    <tr>\n",
       "      <th>U.S. Geological Survey, Department of the Interior</th>\n",
       "      <td> 12439</td>\n",
       "    </tr>\n",
       "    <tr>\n",
       "      <th>US Agency for International Development</th>\n",
       "      <td>   641</td>\n",
       "    </tr>\n",
       "    <tr>\n",
       "      <th>US Bureau of Reclamation, Department of the Interior</th>\n",
       "      <td>    93</td>\n",
       "    </tr>\n",
       "    <tr>\n",
       "      <th>US Census Bureau, Department of Commerce</th>\n",
       "      <td> 19972</td>\n",
       "    </tr>\n",
       "    <tr>\n",
       "      <th>US Consumer Product Safety Commission</th>\n",
       "      <td>   709</td>\n",
       "    </tr>\n",
       "    <tr>\n",
       "      <th>US Equal Employment Opportunity Commission</th>\n",
       "      <td>   115</td>\n",
       "    </tr>\n",
       "    <tr>\n",
       "      <th>US Fish and Wildlife Service, Department of the Interior</th>\n",
       "      <td>  3647</td>\n",
       "    </tr>\n",
       "    <tr>\n",
       "      <th>US Forest Service, Department of Agriculture</th>\n",
       "      <td>   562</td>\n",
       "    </tr>\n",
       "    <tr>\n",
       "      <th>US International Trade Commission</th>\n",
       "      <td>    69</td>\n",
       "    </tr>\n",
       "    <tr>\n",
       "      <th>US Office of Surface Mining Reclamation and Enforcement</th>\n",
       "      <td>     2</td>\n",
       "    </tr>\n",
       "    <tr>\n",
       "      <th>US Office of the Special Counsel</th>\n",
       "      <td>    16</td>\n",
       "    </tr>\n",
       "    <tr>\n",
       "      <th>US Patent and Trademark Office, Department of Commerce</th>\n",
       "      <td>   396</td>\n",
       "    </tr>\n",
       "    <tr>\n",
       "      <th>US Trade Representative, Executive Office of the President</th>\n",
       "      <td>    97</td>\n",
       "    </tr>\n",
       "    <tr>\n",
       "      <th>United Nations Cartographic Section</th>\n",
       "      <td>   109</td>\n",
       "    </tr>\n",
       "    <tr>\n",
       "      <th>University of Arizona</th>\n",
       "      <td>     8</td>\n",
       "    </tr>\n",
       "    <tr>\n",
       "      <th>University of California San Diego</th>\n",
       "      <td>     4</td>\n",
       "    </tr>\n",
       "    <tr>\n",
       "      <th>University of Idaho</th>\n",
       "      <td>   338</td>\n",
       "    </tr>\n",
       "    <tr>\n",
       "      <th>University of New Hampshire</th>\n",
       "      <td>    39</td>\n",
       "    </tr>\n",
       "    <tr>\n",
       "      <th>University of Rhode Island Geospatial Extension Program</th>\n",
       "      <td>    45</td>\n",
       "    </tr>\n",
       "    <tr>\n",
       "      <th>University of Wyoming</th>\n",
       "      <td>     1</td>\n",
       "    </tr>\n",
       "    <tr>\n",
       "      <th>Vermont Center for Geographic Information</th>\n",
       "      <td>    94</td>\n",
       "    </tr>\n",
       "    <tr>\n",
       "      <th>Virginia Department of Environmental Quality</th>\n",
       "      <td>    31</td>\n",
       "    </tr>\n",
       "    <tr>\n",
       "      <th>WV GIS Technical Center</th>\n",
       "      <td>    24</td>\n",
       "    </tr>\n",
       "    <tr>\n",
       "      <th>Washington University St Louis</th>\n",
       "      <td>    67</td>\n",
       "    </tr>\n",
       "    <tr>\n",
       "      <th>White House, Executive Office of the President</th>\n",
       "      <td>    43</td>\n",
       "    </tr>\n",
       "    <tr>\n",
       "      <th>World Resources Institute</th>\n",
       "      <td>     9</td>\n",
       "    </tr>\n",
       "    <tr>\n",
       "      <th>World Wide Human Geography Data Working Group</th>\n",
       "      <td>    45</td>\n",
       "    </tr>\n",
       "    <tr>\n",
       "      <th>test org 031215</th>\n",
       "      <td>     1</td>\n",
       "    </tr>\n",
       "  </tbody>\n",
       "</table>\n",
       "<p>164 rows × 1 columns</p>\n",
       "</div>"
      ],
      "text/plain": [
       "                                                                                     Views per Month\n",
       "Organization Name                                                                                   \n",
       "Arctic Landscape Conservation Cooperative                                                         94\n",
       "Arizona Geological Survey                                                                       1643\n",
       "Army Corps of Engineers, Department of the Army, Department of Defense                           324\n",
       "Baruch Institute for Marine and Coastal Sciences, Univ of South Carolina                          54\n",
       "Broadcasting Board of Governors                                                                   12\n",
       "Bureau of Economic Analysis, Department of Commerce                                               46\n",
       "Bureau of Indian Education, Department of the Interior                                            25\n",
       "Bureau of Industry and Security, Department of Commerce                                           74\n",
       "Bureau of Land Management, Department of the Interior                                            215\n",
       "Bureau of Ocean Energy Management, Department of the Interior                                    313\n",
       "CCAPS Program, Robert Strauss Center, University of Texas at Austin                               54\n",
       "California Department of Resources                                                              1247\n",
       "California Environmental Health Tracking Program                                                  74\n",
       "California Institute of Technology, Jet Propulsion Laboratory                                     15\n",
       "Center for International Earth Science Information Network, Columbia University                    5\n",
       "Centers for Medicare and Medicaid Services, Department of Health and Human Services               44\n",
       "City of Baltimore                                                                                389\n",
       "City of Baton Rouge                                                                               51\n",
       "City of Chicago                                                                                 1192\n",
       "City of Hartford                                                                                  53\n",
       "City of Honolulu                                                                                  52\n",
       "City of Los Angeles                                                                              405\n",
       "City of New York                                                                                2564\n",
       "City of Philadelphia                                                                             129\n",
       "City of San Francisco                                                                            691\n",
       "City of Seattle                                                                                  295\n",
       "City of Somerville                                                                                11\n",
       "Commodity Futures Trading Commission                                                              60\n",
       "Consumer Financial Protection Bureau                                                            3530\n",
       "Cook County of Illinois                                                                          114\n",
       "...                                                                                              ...\n",
       "U.S. Department of Health & Human Services                                                         4\n",
       "U.S. Environmental Protection Agency                                                             196\n",
       "U.S. Geological Survey, Department of the Interior                                             12439\n",
       "US Agency for International Development                                                          641\n",
       "US Bureau of Reclamation, Department of the Interior                                              93\n",
       "US Census Bureau, Department of Commerce                                                       19972\n",
       "US Consumer Product Safety Commission                                                            709\n",
       "US Equal Employment Opportunity Commission                                                       115\n",
       "US Fish and Wildlife Service, Department of the Interior                                        3647\n",
       "US Forest Service, Department of Agriculture                                                     562\n",
       "US International Trade Commission                                                                 69\n",
       "US Office of Surface Mining Reclamation and Enforcement                                            2\n",
       "US Office of the Special Counsel                                                                  16\n",
       "US Patent and Trademark Office, Department of Commerce                                           396\n",
       "US Trade Representative, Executive Office of the President                                        97\n",
       "United Nations Cartographic Section                                                              109\n",
       "University of Arizona                                                                              8\n",
       "University of California San Diego                                                                 4\n",
       "University of Idaho                                                                              338\n",
       "University of New Hampshire                                                                       39\n",
       "University of Rhode Island Geospatial Extension Program                                           45\n",
       "University of Wyoming                                                                              1\n",
       "Vermont Center for Geographic Information                                                         94\n",
       "Virginia Department of Environmental Quality                                                      31\n",
       "WV GIS Technical Center                                                                           24\n",
       "Washington University St Louis                                                                    67\n",
       "White House, Executive Office of the President                                                    43\n",
       "World Resources Institute                                                                          9\n",
       "World Wide Human Geography Data Working Group                                                     45\n",
       "test org 031215                                                                                    1\n",
       "\n",
       "[164 rows x 1 columns]"
      ]
     },
     "execution_count": 4,
     "metadata": {},
     "output_type": "execute_result"
    }
   ],
   "source": [
    "grouped_df = queried_df.groupby(['Organization Name']).sum()\n",
    "grouped_df"
   ]
  },
  {
   "cell_type": "markdown",
   "metadata": {},
   "source": [
    "# Sorting the previous results on Total Views per month and printing a pretty table for results"
   ]
  },
  {
   "cell_type": "code",
   "execution_count": 5,
   "metadata": {
    "collapsed": false
   },
   "outputs": [
    {
     "name": "stdout",
     "output_type": "stream",
     "text": [
      "| Organization Name                                                       |   Views per Month |\n",
      "|:------------------------------------------------------------------------|------------------:|\n",
      "| US Census Bureau, Department of Commerce                                |             19972 |\n",
      "| National Oceanic and Atmospheric Administration, Department of Commerce |             19457 |\n",
      "| U.S. Geological Survey, Department of the Interior                      |             12439 |\n",
      "| Department of Agriculture                                               |              9497 |\n",
      "| Department of Transportation                                            |              5996 |\n",
      "| Department of Defense                                                   |              5689 |\n",
      "| Department of Education                                                 |              5412 |\n",
      "| General Services Administration                                         |              4749 |\n",
      "| National Aeronautics and Space Administration                           |              4397 |\n",
      "| NSGIC GIS Inventory (aka Ramona)                                        |              4340 |\n"
     ]
    }
   ],
   "source": [
    "result_df = grouped_df.sort_index(by='Views per Month',ascending=False).head(10)\n",
    "headers = ['Organization Name', 'Views per Month']\n",
    "print tabulate(result_df, headers, tablefmt=\"pipe\")"
   ]
  },
  {
   "cell_type": "markdown",
   "metadata": {},
   "source": [
    "# Plotting bar chart for easy visualization of results"
   ]
  },
  {
   "cell_type": "code",
   "execution_count": 6,
   "metadata": {
    "collapsed": false
   },
   "outputs": [
    {
     "data": {
      "text/plain": [
       "<matplotlib.axes._subplots.AxesSubplot at 0xf0507f0>"
      ]
     },
     "execution_count": 6,
     "metadata": {},
     "output_type": "execute_result"
    },
    {
     "data": {
      "image/png": "[encoded data removed]",
      "text/plain": [
       "<matplotlib.figure.Figure at 0xf050320>"
      ]
     },
     "metadata": {},
     "output_type": "display_data"
    }
   ],
   "source": [
    "result_df.plot(kind='barh')"
   ]
  },
  {
   "cell_type": "code",
   "execution_count": null,
   "metadata": {
    "collapsed": true
   },
   "outputs": [],
   "source": []
  }
 ],
 "metadata": {
  "kernelspec": {
   "display_name": "Python 2",
   "language": "python",
   "name": "python2"
  },
  "language_info": {
   "codemirror_mode": {
    "name": "ipython",
    "version": 2
   },
   "file_extension": ".py",
   "mimetype": "text/x-python",
   "name": "python",
   "nbconvert_exporter": "python",
   "pygments_lexer": "ipython2",
   "version": "2.7.9"
  }
 },
 "nbformat": 4,
 "nbformat_minor": 0
}
